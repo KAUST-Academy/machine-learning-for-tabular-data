{
  "cells": [
    {
      "cell_type": "code",
      "execution_count": null,
      "metadata": {
        "id": "BqXqSwkNMZnh"
      },
      "outputs": [],
      "source": [
        "import pathlib\n",
        "\n",
        "import matplotlib.pyplot as plt\n",
        "import numpy as np\n",
        "import pandas as pd\n",
        "from sklearn import compose, datasets, linear_model, metrics, model_selection\n",
        "from sklearn import preprocessing, pipeline"
      ]
    },
    {
      "cell_type": "markdown",
      "metadata": {
        "id": "wZWFwAtSMf2-"
      },
      "source": [
        "# Preprocessing with Scikit-Learn"
      ]
    },
    {
      "cell_type": "code",
      "execution_count": null,
      "metadata": {
        "id": "Pic_KeQvHUR8"
      },
      "outputs": [],
      "source": [
        "features, targets = datasets.load_diabetes(\n",
        "    return_X_y=True,\n",
        "    as_frame=True,\n",
        "    scaled=False\n",
        ")"
      ]
    },
    {
      "cell_type": "code",
      "execution_count": null,
      "metadata": {
        "id": "NRKDrTgqHUR8"
      },
      "outputs": [],
      "source": [
        "features.head()"
      ]
    },
    {
      "cell_type": "code",
      "execution_count": null,
      "metadata": {
        "id": "dzfG-j5DHUR9"
      },
      "outputs": [],
      "source": [
        "features.info()"
      ]
    },
    {
      "cell_type": "code",
      "execution_count": null,
      "metadata": {
        "id": "x4-uuq_fClPe"
      },
      "outputs": [],
      "source": [
        "targets.describe()"
      ]
    },
    {
      "cell_type": "markdown",
      "metadata": {
        "id": "iRuGO5YhhC86"
      },
      "source": [
        "## Train-test split"
      ]
    },
    {
      "cell_type": "code",
      "execution_count": null,
      "metadata": {
        "id": "3bPVLcg5IaLr"
      },
      "outputs": [],
      "source": [
        "prng = np.random.RandomState(42)\n",
        "\n",
        "train_features, test_features, train_targets, test_targets = (\n",
        "    model_selection.train_test_split(\n",
        "        features,\n",
        "        targets,\n",
        "        random_state=prng,\n",
        "        test_size=0.1\n",
        "    )\n",
        ")"
      ]
    },
    {
      "cell_type": "markdown",
      "metadata": {
        "id": "910DJ9vGhk8E"
      },
      "source": [
        "## Feature Preprocessing"
      ]
    },
    {
      "cell_type": "code",
      "execution_count": null,
      "metadata": {
        "id": "m9sAUxuqHUR-"
      },
      "outputs": [],
      "source": [
        "transformer_0 = compose.make_column_transformer(\n",
        "    (\n",
        "        preprocessing.OneHotEncoder(\n",
        "            drop=\"first\",\n",
        "            dtype=np.uint8,\n",
        "            sparse_output=False,\n",
        "        ),\n",
        "        [\"sex\"]\n",
        "    ),\n",
        "    remainder=\"drop\",\n",
        "    verbose=True,\n",
        "    verbose_feature_names_out=False\n",
        ")\n",
        "\n",
        "\n",
        "transformer_1 = compose.make_column_transformer(\n",
        "    (\n",
        "        preprocessing.StandardScaler(),\n",
        "        [\"age\", \"bmi\", \"bp\", \"s1\", \"s2\", \"s3\", \"s4\", \"s5\"]\n",
        "    ),\n",
        "    remainder=\"drop\",\n",
        "    verbose=True,\n",
        "    verbose_feature_names_out=False\n",
        ")\n",
        "\n",
        "features_preprocessor = pipeline.make_union(\n",
        "    transformer_0,\n",
        "    transformer_1,\n",
        "    verbose=True,\n",
        "    n_jobs=-1\n",
        ").set_output(transform=\"pandas\")"
      ]
    },
    {
      "cell_type": "code",
      "execution_count": null,
      "metadata": {
        "id": "gv_k75PQMAf1"
      },
      "outputs": [],
      "source": [
        "features_preprocessor"
      ]
    },
    {
      "cell_type": "code",
      "execution_count": null,
      "metadata": {
        "id": "kga4xYZpjI1i"
      },
      "outputs": [],
      "source": [
        "features_preprocessor.fit_transform(train_features)"
      ]
    },
    {
      "cell_type": "code",
      "execution_count": null,
      "metadata": {
        "id": "qNvE-3o7MCGA"
      },
      "outputs": [],
      "source": [
        "target_preprocessor = preprocessing.FunctionTransformer(\n",
        "    func=np.log,\n",
        "    inverse_func=np.exp\n",
        ")"
      ]
    },
    {
      "cell_type": "code",
      "execution_count": null,
      "metadata": {
        "id": "XR5wOiESMCIf"
      },
      "outputs": [],
      "source": [
        "target_preprocessor"
      ]
    },
    {
      "cell_type": "code",
      "execution_count": null,
      "metadata": {
        "id": "OnLs7ib0MNL4"
      },
      "outputs": [],
      "source": [
        "target_preprocessor.fit_transform(train_targets)"
      ]
    },
    {
      "cell_type": "markdown",
      "metadata": {
        "id": "mrQRCXgMgSe5"
      },
      "source": [
        "## Model training"
      ]
    },
    {
      "cell_type": "markdown",
      "metadata": {
        "id": "hbwT8oMLgVfK"
      },
      "source": [
        "### Using LinearRegression"
      ]
    },
    {
      "cell_type": "code",
      "execution_count": null,
      "metadata": {
        "id": "HEztScChgrzr"
      },
      "outputs": [],
      "source": [
        "_regressor = compose.TransformedTargetRegressor(\n",
        "    regressor=linear_model.LinearRegression(),\n",
        "    transformer=target_preprocessor\n",
        ")\n",
        "\n",
        "linear_regression_pipeline = pipeline.make_pipeline(\n",
        "    features_preprocessor,\n",
        "    _regressor\n",
        ")"
      ]
    },
    {
      "cell_type": "code",
      "execution_count": null,
      "metadata": {
        "id": "6nanFV14gYoq"
      },
      "outputs": [],
      "source": [
        "%%timeit\n",
        "_ = linear_regression_pipeline.fit(train_features, train_targets)"
      ]
    },
    {
      "cell_type": "code",
      "execution_count": null,
      "metadata": {
        "id": "1MZhtRUyMaBV"
      },
      "outputs": [],
      "source": [
        "_ = linear_regression_pipeline.fit(train_features, train_targets)"
      ]
    },
    {
      "cell_type": "code",
      "execution_count": null,
      "metadata": {
        "id": "j3ChcTF3MaD_"
      },
      "outputs": [],
      "source": [
        "train_predictions = linear_regression_pipeline.predict(train_features)\n",
        "train_rmse = metrics.root_mean_squared_error(\n",
        "    train_targets,\n",
        "    train_predictions,\n",
        ")\n",
        "print(f\"Training rmse: {train_rmse}\")"
      ]
    },
    {
      "cell_type": "code",
      "execution_count": null,
      "metadata": {
        "id": "gASBnMCwMlZB"
      },
      "outputs": [],
      "source": [
        "test_predictions = linear_regression_pipeline.predict(test_features)\n",
        "test_rmse = metrics.root_mean_squared_error(\n",
        "    test_targets,\n",
        "    test_predictions,\n",
        ")\n",
        "print(f\"Testing rmse: {test_rmse}\")"
      ]
    },
    {
      "cell_type": "markdown",
      "metadata": {
        "id": "h3JwOS2MhyJW"
      },
      "source": [
        "### Using SGDRegressor"
      ]
    },
    {
      "cell_type": "code",
      "execution_count": null,
      "metadata": {
        "id": "329CnQnEHUR-"
      },
      "outputs": [],
      "source": [
        "_regressor = compose.TransformedTargetRegressor(\n",
        "    regressor=linear_model.SGDRegressor(),\n",
        "    transformer=target_preprocessor\n",
        ")\n",
        "\n",
        "sgd_regressor_pipeline = pipeline.make_pipeline(\n",
        "    features_preprocessor,\n",
        "    _regressor\n",
        ")"
      ]
    },
    {
      "cell_type": "code",
      "execution_count": null,
      "metadata": {
        "id": "1ipmdT1CM8Ij"
      },
      "outputs": [],
      "source": [
        "sgd_regressor_pipeline"
      ]
    },
    {
      "cell_type": "code",
      "execution_count": null,
      "metadata": {
        "id": "rAjNNRdHgx0-"
      },
      "outputs": [],
      "source": [
        "%%timeit\n",
        "_ = sgd_regressor_pipeline.fit(train_features, train_targets)"
      ]
    },
    {
      "cell_type": "code",
      "execution_count": null,
      "metadata": {
        "id": "xUNqtDeFhFj5"
      },
      "outputs": [],
      "source": [
        "_ = sgd_regressor_pipeline.fit(train_features, train_targets)"
      ]
    },
    {
      "cell_type": "code",
      "execution_count": null,
      "metadata": {
        "id": "BpNMeohYl6jK"
      },
      "outputs": [],
      "source": [
        "train_predictions = sgd_regressor_pipeline.predict(train_features)\n",
        "train_rmse = metrics.root_mean_squared_error(\n",
        "    train_targets,\n",
        "    train_predictions,\n",
        ")\n",
        "print(f\"Training rmse: {train_rmse}\")"
      ]
    },
    {
      "cell_type": "code",
      "execution_count": null,
      "metadata": {
        "id": "OiXfRnzzNIJ7"
      },
      "outputs": [],
      "source": [
        "test_predictions = sgd_regressor_pipeline.predict(test_features)\n",
        "test_rmse = metrics.root_mean_squared_error(\n",
        "    test_targets,\n",
        "    test_predictions,\n",
        ")\n",
        "print(f\"Testing rmse: {test_rmse}\")"
      ]
    },
    {
      "cell_type": "markdown",
      "metadata": {
        "id": "R-dC8-3hauIk"
      },
      "source": [
        "### Exercise\n",
        "\n",
        "Compare the training loss and the testing loss. Is the model underfitting or overfitting? How can you tell?"
      ]
    },
    {
      "cell_type": "code",
      "execution_count": null,
      "metadata": {
        "id": "tqj37ufbG2nP"
      },
      "outputs": [],
      "source": []
    }
  ],
  "metadata": {
    "colab": {
      "provenance": []
    },
    "kernelspec": {
      "display_name": "Python 3 (ipykernel)",
      "language": "python",
      "name": "python3"
    },
    "language_info": {
      "codemirror_mode": {
        "name": "ipython",
        "version": 3
      },
      "file_extension": ".py",
      "mimetype": "text/x-python",
      "name": "python",
      "nbconvert_exporter": "python",
      "pygments_lexer": "ipython3",
      "version": "3.10.6"
    }
  },
  "nbformat": 4,
  "nbformat_minor": 0
}
