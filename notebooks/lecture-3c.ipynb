{
  "cells": [
    {
      "cell_type": "code",
      "execution_count": null,
      "id": "e3ea2c52-3ead-4484-8a13-59ff459b0f78",
      "metadata": {
        "id": "e3ea2c52-3ead-4484-8a13-59ff459b0f78"
      },
      "outputs": [],
      "source": [
        "import pathlib\n",
        "import requests\n",
        "\n",
        "import joblib\n",
        "import matplotlib.pyplot as plt\n",
        "import numpy as np\n",
        "import pandas as pd\n",
        "from sklearn import linear_model, feature_selection, metrics\n",
        "from sklearn import model_selection, pipeline, preprocessing"
      ]
    },
    {
      "cell_type": "markdown",
      "id": "9Ptcn-IIVEsP",
      "metadata": {
        "id": "9Ptcn-IIVEsP"
      },
      "source": [
        "# Multiclass Classification"
      ]
    },
    {
      "cell_type": "markdown",
      "id": "a9b241c6-de2e-4c9a-ac4f-6c5a010e2929",
      "metadata": {
        "id": "a9b241c6-de2e-4c9a-ac4f-6c5a010e2929",
        "tags": []
      },
      "source": [
        "# MNIST Dataset\n",
        "\n",
        "The original [MNIST](http://yann.lecun.com/exdb/mnist/) dataset consists of 70000 28x28 black and white images in 10 classes. There are 60000 training images and 10000 test images."
      ]
    },
    {
      "cell_type": "code",
      "execution_count": null,
      "id": "92587a9e-0b12-49cc-aa00-93c905c60278",
      "metadata": {
        "id": "92587a9e-0b12-49cc-aa00-93c905c60278"
      },
      "outputs": [],
      "source": [
        "# might be different if using Colab or Kaggle\n",
        "PROJECT_ROOT_DIR = pathlib.Path(\".\")\n",
        "\n",
        "DATA_DIR = PROJECT_ROOT_DIR / \"data\" / \"mnist\"\n",
        "DATA_DIR.mkdir(parents=True, exist_ok=True)\n",
        "\n",
        "RESULTS_DIR = PROJECT_ROOT_DIR / \"results\" / \"mnist\"\n",
        "RESULTS_DIR.mkdir(parents=True, exist_ok=True)\n"
      ]
    },
    {
      "cell_type": "markdown",
      "id": "e68d2238-7283-441a-b6d8-4ba3c4c682f0",
      "metadata": {
        "id": "e68d2238-7283-441a-b6d8-4ba3c4c682f0"
      },
      "source": [
        "### Download and extract the data (if using Colab or Kaggle!)"
      ]
    },
    {
      "cell_type": "code",
      "execution_count": null,
      "id": "09916110-f2d8-448c-86ee-4be9ae5be169",
      "metadata": {
        "id": "09916110-f2d8-448c-86ee-4be9ae5be169",
        "tags": []
      },
      "outputs": [],
      "source": [
        "URL = \"https://github.com/davidrpugh/machine-learning-for-tabular-data/blob/main/data/mnist/mnist.parquet?raw=true\"\n",
        "\n",
        "with open(DATA_DIR / \"mnist.parquet\", 'wb') as f:\n",
        "    response = requests.get(URL)\n",
        "    f.write(response.content)\n"
      ]
    },
    {
      "cell_type": "code",
      "execution_count": null,
      "id": "RskyAZbs5dRe",
      "metadata": {
        "id": "RskyAZbs5dRe"
      },
      "outputs": [],
      "source": [
        "%%bash\n",
        "ls -lh ./data/mnist"
      ]
    },
    {
      "cell_type": "markdown",
      "id": "02cc24c9-260e-4840-8872-723f0adc6f41",
      "metadata": {
        "id": "02cc24c9-260e-4840-8872-723f0adc6f41"
      },
      "source": [
        "## Load the data\n",
        "\n",
        "We will load the data using the [Pandas](https://pandas.pydata.org/) library. Highly recommend the most recent edition of [*Python for Data Analysis*](https://learning.oreilly.com/library/view/python-for-data/9781491957653/) by Pandas creator Wes Mckinney for anyone interested in learning how to use Pandas."
      ]
    },
    {
      "cell_type": "code",
      "execution_count": null,
      "id": "c1fded7d-02a7-48c3-99e4-d19d001c8ccf",
      "metadata": {
        "id": "c1fded7d-02a7-48c3-99e4-d19d001c8ccf"
      },
      "outputs": [],
      "source": [
        "data = pd.read_parquet(DATA_DIR / \"mnist.parquet\")\n",
        "features = data.drop(\"label\", axis=1)\n",
        "target = data.loc[:, \"label\"]"
      ]
    },
    {
      "cell_type": "markdown",
      "id": "de1d7ed7-50ae-46fb-b7c9-cb3cbd5a6f1b",
      "metadata": {
        "id": "de1d7ed7-50ae-46fb-b7c9-cb3cbd5a6f1b"
      },
      "source": [
        "## Explore the data"
      ]
    },
    {
      "cell_type": "code",
      "execution_count": null,
      "id": "9b53a9c4-550d-4577-bf0f-bace74843784",
      "metadata": {
        "id": "9b53a9c4-550d-4577-bf0f-bace74843784"
      },
      "outputs": [],
      "source": [
        "features.info()"
      ]
    },
    {
      "cell_type": "code",
      "execution_count": null,
      "id": "5a672145-6e4a-4a8f-9354-773c665e6139",
      "metadata": {
        "id": "5a672145-6e4a-4a8f-9354-773c665e6139"
      },
      "outputs": [],
      "source": [
        "features.head()"
      ]
    },
    {
      "cell_type": "code",
      "execution_count": null,
      "id": "ed9991ac-7033-475f-aacc-b0ea0d6dded4",
      "metadata": {
        "id": "ed9991ac-7033-475f-aacc-b0ea0d6dded4"
      },
      "outputs": [],
      "source": [
        "features.tail()"
      ]
    },
    {
      "cell_type": "code",
      "execution_count": null,
      "id": "d4983c89-dcbf-4403-8d76-7940d95c9122",
      "metadata": {
        "id": "d4983c89-dcbf-4403-8d76-7940d95c9122"
      },
      "outputs": [],
      "source": [
        "features.describe()"
      ]
    },
    {
      "cell_type": "code",
      "execution_count": null,
      "id": "f9a5d4e9-8c96-4da9-b9b7-33a0edbe018e",
      "metadata": {
        "id": "f9a5d4e9-8c96-4da9-b9b7-33a0edbe018e"
      },
      "outputs": [],
      "source": [
        "_ = (target.value_counts()\n",
        "           .sort_index()\n",
        "           .plot(kind=\"bar\"))\n",
        "_ = plt.xticks(rotation=-45)"
      ]
    },
    {
      "cell_type": "markdown",
      "id": "fOwVg9twRqkd",
      "metadata": {
        "id": "fOwVg9twRqkd"
      },
      "source": [
        "## Train-Test Split"
      ]
    },
    {
      "cell_type": "code",
      "execution_count": null,
      "id": "f791e74d-cddd-4383-8a6c-5b80df4a5daf",
      "metadata": {
        "id": "f791e74d-cddd-4383-8a6c-5b80df4a5daf"
      },
      "outputs": [],
      "source": [
        "model_selection.train_test_split?"
      ]
    },
    {
      "cell_type": "code",
      "execution_count": null,
      "id": "beff5a36-07c7-404f-916b-260c789aff91",
      "metadata": {
        "id": "beff5a36-07c7-404f-916b-260c789aff91"
      },
      "outputs": [],
      "source": [
        "TEST_SIZE = 1e-1\n",
        "\n",
        "# split the dataset into training and testing data\n",
        "_random_state = np.random.RandomState(42)\n",
        "train_features, test_features, train_target, test_target = model_selection.train_test_split(\n",
        "    features,\n",
        "    target,\n",
        "    test_size=TEST_SIZE,\n",
        "    stratify=target,\n",
        "    random_state=_random_state\n",
        ")"
      ]
    },
    {
      "cell_type": "code",
      "execution_count": null,
      "id": "e9ed741c-996c-4df3-8680-49f14cc0dcf0",
      "metadata": {
        "id": "e9ed741c-996c-4df3-8680-49f14cc0dcf0"
      },
      "outputs": [],
      "source": [
        "train_features.info()"
      ]
    },
    {
      "cell_type": "code",
      "execution_count": null,
      "id": "8115616b-7609-4510-8347-b02e497bed84",
      "metadata": {
        "id": "8115616b-7609-4510-8347-b02e497bed84"
      },
      "outputs": [],
      "source": [
        "train_features.head()"
      ]
    },
    {
      "cell_type": "code",
      "execution_count": null,
      "id": "3722a295-4c88-4d24-b5cc-b84282f3de57",
      "metadata": {
        "id": "3722a295-4c88-4d24-b5cc-b84282f3de57"
      },
      "outputs": [],
      "source": [
        "train_target.head()"
      ]
    },
    {
      "cell_type": "code",
      "execution_count": null,
      "id": "8a75323c-1b45-46b4-80bc-f26b003d50bb",
      "metadata": {
        "id": "8a75323c-1b45-46b4-80bc-f26b003d50bb"
      },
      "outputs": [],
      "source": [
        "train_features.describe()"
      ]
    },
    {
      "cell_type": "markdown",
      "id": "090af9ae-e36c-4c5d-ac2d-25e1ea1c34df",
      "metadata": {
        "id": "090af9ae-e36c-4c5d-ac2d-25e1ea1c34df"
      },
      "source": [
        "Again, if you want to you can write out the train and test sets to disk to avoid having to recreate them later."
      ]
    },
    {
      "cell_type": "code",
      "execution_count": null,
      "id": "6ede1948-a85a-450f-8c0b-8c18b56ed4d3",
      "metadata": {
        "id": "6ede1948-a85a-450f-8c0b-8c18b56ed4d3"
      },
      "outputs": [],
      "source": [
        "_ = (train_features.join(train_target)\n",
        "                   .to_parquet(DATA_DIR / \"train.parquet\", index=False))\n",
        "\n",
        "_ = (test_features.join(test_target)\n",
        "                   .to_parquet(DATA_DIR / \"test.parquet\", index=False))"
      ]
    },
    {
      "cell_type": "markdown",
      "id": "z7RoRlbes0m8",
      "metadata": {
        "id": "z7RoRlbes0m8"
      },
      "source": [
        "## Multiclass Classification\n"
      ]
    },
    {
      "cell_type": "code",
      "execution_count": null,
      "id": "dbr3q750Ubay",
      "metadata": {
        "id": "dbr3q750Ubay"
      },
      "outputs": [],
      "source": [
        "linear_model.LogisticRegression?"
      ]
    },
    {
      "cell_type": "code",
      "execution_count": null,
      "id": "u4wsOXL8tr3w",
      "metadata": {
        "id": "u4wsOXL8tr3w"
      },
      "outputs": [],
      "source": [
        "ml_pipeline = pipeline.make_pipeline(\n",
        "     feature_selection.VarianceThreshold(threshold=0.0),\n",
        "    preprocessing.MinMaxScaler(feature_range=(-1, rootr1)),\n",
        "    linear_model.LogisticRegression(\n",
        "        max_iter=1000\n",
        "    ),\n",
        "    verbose=True\n",
        ")"
      ]
    },
    {
      "cell_type": "code",
      "execution_count": null,
      "id": "CVc6bFtCeKA0",
      "metadata": {
        "id": "CVc6bFtCeKA0"
      },
      "outputs": [],
      "source": [
        "_ = ml_pipeline.fit(train_features, train_target)"
      ]
    },
    {
      "cell_type": "markdown",
      "id": "CsYm1kJ3vPoz",
      "metadata": {
        "id": "CsYm1kJ3vPoz"
      },
      "source": [
        "## Error analysis using the training dataset"
      ]
    },
    {
      "cell_type": "code",
      "execution_count": null,
      "id": "egHzCLiuffZz",
      "metadata": {
        "id": "egHzCLiuffZz"
      },
      "outputs": [],
      "source": [
        "train_predictions = ml_pipeline.predict(train_features)\n",
        "_report = metrics.classification_report(\n",
        "    train_target,\n",
        "    train_predictions,\n",
        ")\n",
        "print(_report)"
      ]
    },
    {
      "cell_type": "code",
      "execution_count": null,
      "id": "HZYcKbZd3NxY",
      "metadata": {
        "id": "HZYcKbZd3NxY"
      },
      "outputs": [],
      "source": [
        "_ = (\n",
        "    metrics.ConfusionMatrixDisplay\n",
        "           .from_predictions(\n",
        "                train_target,\n",
        "                train_predictions\n",
        "            )\n",
        ")"
      ]
    },
    {
      "cell_type": "code",
      "execution_count": null,
      "id": "89a0bf8f-ca7d-43fd-804f-8819fe69c005",
      "metadata": {
        "id": "89a0bf8f-ca7d-43fd-804f-8819fe69c005"
      },
      "outputs": [],
      "source": [
        "_ = (\n",
        "    metrics.ConfusionMatrixDisplay\n",
        "           .from_predictions(\n",
        "                train_target,\n",
        "                train_predictions,\n",
        "                normalize=\"true\",\n",
        "                values_format=\".0%\"\n",
        "            )\n",
        ")"
      ]
    },
    {
      "cell_type": "code",
      "execution_count": null,
      "id": "o8ICivivwCL7",
      "metadata": {
        "id": "o8ICivivwCL7"
      },
      "outputs": [],
      "source": [
        "_ = (\n",
        "    metrics.ConfusionMatrixDisplay\n",
        "           .from_predictions(\n",
        "                train_target,\n",
        "                train_predictions,\n",
        "                normalize=\"true\",\n",
        "                sample_weight=(train_target != train_predictions),\n",
        "                values_format=\".0%\"\n",
        "            )\n",
        ")"
      ]
    },
    {
      "cell_type": "code",
      "execution_count": null,
      "id": "fbVEYVaowUis",
      "metadata": {
        "id": "fbVEYVaowUis"
      },
      "outputs": [],
      "source": [
        "_ = (\n",
        "    metrics.ConfusionMatrixDisplay\n",
        "           .from_predictions(\n",
        "                train_target,\n",
        "                train_predictions,\n",
        "                normalize=\"pred\",\n",
        "                sample_weight=(train_target != train_predictions),\n",
        "                values_format=\".0%\"\n",
        "            )\n",
        ")"
      ]
    },
    {
      "cell_type": "markdown",
      "id": "_In-RxVbwG4B",
      "metadata": {
        "id": "_In-RxVbwG4B"
      },
      "source": [
        "## Assess using Test dataset"
      ]
    },
    {
      "cell_type": "code",
      "execution_count": null,
      "id": "eec43a20-61da-4edb-b2e8-673adc6b7d3a",
      "metadata": {
        "id": "eec43a20-61da-4edb-b2e8-673adc6b7d3a"
      },
      "outputs": [],
      "source": [
        "test_predictions = ml_pipeline.predict(test_features)\n",
        "_report = metrics.classification_report(\n",
        "    test_target,\n",
        "    test_predictions,\n",
        ")\n",
        "print(_report)"
      ]
    },
    {
      "cell_type": "code",
      "execution_count": null,
      "id": "JPD5h83EwC16",
      "metadata": {
        "id": "JPD5h83EwC16"
      },
      "outputs": [],
      "source": []
    }
  ],
  "metadata": {
    "colab": {
      "provenance": []
    },
    "kernelspec": {
      "display_name": "Python 3 (ipykernel)",
      "language": "python",
      "name": "python3"
    },
    "language_info": {
      "codemirror_mode": {
        "name": "ipython",
        "version": 3
      },
      "file_extension": ".py",
      "mimetype": "text/x-python",
      "name": "python",
      "nbconvert_exporter": "python",
      "pygments_lexer": "ipython3",
      "version": "3.10.6"
    }
  },
  "nbformat": 4,
  "nbformat_minor": 5
}
