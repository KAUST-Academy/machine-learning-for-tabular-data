{
  "cells": [
    {
      "cell_type": "code",
      "execution_count": null,
      "metadata": {
        "id": "BqXqSwkNMZnh"
      },
      "outputs": [],
      "source": [
        "import pathlib\n",
        "\n",
        "import matplotlib.pyplot as plt\n",
        "import numpy as np\n",
        "import pandas as pd\n",
        "from sklearn import compose, datasets, linear_model, metrics, model_selection\n",
        "from sklearn import preprocessing, pipeline"
      ]
    },
    {
      "cell_type": "markdown",
      "metadata": {
        "id": "wZWFwAtSMf2-"
      },
      "source": [
        "# Regularized Linear Models"
      ]
    },
    {
      "cell_type": "code",
      "execution_count": null,
      "metadata": {
        "id": "Pic_KeQvHUR8"
      },
      "outputs": [],
      "source": [
        "features, targets = datasets.load_diabetes(\n",
        "    return_X_y=True,\n",
        "    as_frame=True,\n",
        "    scaled=False\n",
        ")"
      ]
    },
    {
      "cell_type": "markdown",
      "metadata": {
        "id": "iRuGO5YhhC86"
      },
      "source": [
        "### Train-test split"
      ]
    },
    {
      "cell_type": "code",
      "execution_count": null,
      "metadata": {
        "id": "fhnKAB8P8kKt"
      },
      "outputs": [],
      "source": [
        "prng = np.random.RandomState(42)\n",
        "\n",
        "train_features, test_features, train_targets, test_targets = (\n",
        "    model_selection.train_test_split(\n",
        "        features,\n",
        "        targets,\n",
        "        random_state=prng,\n",
        "        test_size=0.1\n",
        "    )\n",
        ")"
      ]
    },
    {
      "cell_type": "markdown",
      "metadata": {
        "id": "910DJ9vGhk8E"
      },
      "source": [
        "## Feature Preprocessing"
      ]
    },
    {
      "cell_type": "code",
      "execution_count": null,
      "metadata": {
        "id": "m9sAUxuqHUR-"
      },
      "outputs": [],
      "source": [
        "transformer_1 = compose.make_column_transformer(\n",
        "    (\n",
        "        preprocessing.OneHotEncoder(\n",
        "            drop=\"first\",\n",
        "            dtype=np.uint8,\n",
        "            sparse_output=False,\n",
        "        ),\n",
        "        [\"sex\"]\n",
        "    ),\n",
        "    remainder=\"drop\",\n",
        "    verbose=True,\n",
        "    verbose_feature_names_out=False\n",
        ")\n",
        "\n",
        "\n",
        "transformer_2 = compose.make_column_transformer(\n",
        "    (\n",
        "        preprocessing.StandardScaler(),\n",
        "        [\"age\", \"bmi\", \"bp\", \"s1\", \"s2\", \"s3\", \"s4\", \"s5\"]\n",
        "    ),\n",
        "    remainder=\"drop\",\n",
        "    verbose=True,\n",
        "    verbose_feature_names_out=False\n",
        ")\n",
        "\n",
        "features_preprocessor = pipeline.make_union(\n",
        "    transformer_1,\n",
        "    transformer_2,\n",
        "    verbose=True,\n",
        "    n_jobs=-1\n",
        ").set_output(transform=\"pandas\")"
      ]
    },
    {
      "cell_type": "code",
      "execution_count": null,
      "metadata": {
        "id": "wVua-L2qSz3t"
      },
      "outputs": [],
      "source": [
        "features_preprocessor"
      ]
    },
    {
      "cell_type": "markdown",
      "metadata": {
        "id": "mMC3l8bhR-CZ"
      },
      "source": [
        "## Target Preprocessing"
      ]
    },
    {
      "cell_type": "code",
      "execution_count": null,
      "metadata": {
        "id": "tYtNbp53R3kS"
      },
      "outputs": [],
      "source": [
        "target_preprocessor = preprocessing.FunctionTransformer(\n",
        "    func=np.log,\n",
        "    inverse_func=np.exp\n",
        ")"
      ]
    },
    {
      "cell_type": "code",
      "execution_count": null,
      "metadata": {
        "id": "pE2Ta5f1R30F"
      },
      "outputs": [],
      "source": [
        "target_preprocessor"
      ]
    },
    {
      "cell_type": "markdown",
      "metadata": {
        "id": "2iKPEK7Wo7Ma"
      },
      "source": [
        "## Feature Engineering"
      ]
    },
    {
      "cell_type": "code",
      "execution_count": null,
      "metadata": {
        "id": "xjuJ0RiAo-Ji"
      },
      "outputs": [],
      "source": [
        "feature_engineering = preprocessing.PolynomialFeatures(\n",
        "    degree=2,\n",
        "    include_bias=False,\n",
        "    interaction_only=False\n",
        ").set_output(transform=\"pandas\")"
      ]
    },
    {
      "cell_type": "code",
      "execution_count": null,
      "metadata": {
        "id": "4ROPfPL7S26F"
      },
      "outputs": [],
      "source": [
        "feature_engineering"
      ]
    },
    {
      "cell_type": "markdown",
      "metadata": {
        "id": "mrQRCXgMgSe5"
      },
      "source": [
        "## Model training"
      ]
    },
    {
      "cell_type": "markdown",
      "metadata": {
        "id": "hbwT8oMLgVfK"
      },
      "source": [
        "### Using ElasticNet"
      ]
    },
    {
      "cell_type": "code",
      "execution_count": null,
      "metadata": {
        "id": "HEztScChgrzr"
      },
      "outputs": [],
      "source": [
        "_regressor = compose.TransformedTargetRegressor(\n",
        "    linear_model.ElasticNet(\n",
        "        alpha=1e-3,\n",
        "        l1_ratio=0.5,\n",
        "        max_iter=4096,\n",
        "        fit_intercept=True,\n",
        "        random_state=prng,\n",
        "    ),\n",
        "    transformer=target_preprocessor\n",
        ")\n",
        "\n",
        "elastic_net_pipeline = pipeline.make_pipeline(\n",
        "    features_preprocessor,\n",
        "    feature_engineering,\n",
        "    _regressor\n",
        ")"
      ]
    },
    {
      "cell_type": "code",
      "execution_count": null,
      "metadata": {
        "id": "6nanFV14gYoq"
      },
      "outputs": [],
      "source": [
        "_ = elastic_net_pipeline.fit(train_features, train_targets)"
      ]
    },
    {
      "cell_type": "code",
      "execution_count": null,
      "metadata": {
        "id": "VVCPbOT54NYx"
      },
      "outputs": [],
      "source": [
        "train_predictions = elastic_net_pipeline.predict(train_features)\n",
        "train_rmse = metrics.root_mean_squared_error(\n",
        "    train_targets,\n",
        "    train_predictions,\n",
        ")\n",
        "print(f\"Training rmse: {train_rmse}\")"
      ]
    },
    {
      "cell_type": "markdown",
      "metadata": {
        "id": "h3JwOS2MhyJW"
      },
      "source": [
        "### Using SGDRegressor"
      ]
    },
    {
      "cell_type": "code",
      "execution_count": null,
      "metadata": {
        "id": "d5mODlJHsWE-"
      },
      "outputs": [],
      "source": [
        "linear_model.SGDRegressor?"
      ]
    },
    {
      "cell_type": "code",
      "execution_count": null,
      "metadata": {
        "id": "329CnQnEHUR-"
      },
      "outputs": [],
      "source": [
        "_regressor = compose.TransformedTargetRegressor(\n",
        "    linear_model.SGDRegressor(\n",
        "        penalty=\"elasticnet\",\n",
        "        alpha=1e-3,\n",
        "        l1_ratio=0.5,\n",
        "        fit_intercept=True,\n",
        "    ),\n",
        "    transformer=target_preprocessor\n",
        ")\n",
        "\n",
        "sgd_regressor_pipeline = pipeline.make_pipeline(\n",
        "    features_preprocessor,\n",
        "    feature_engineering,\n",
        "    _regressor\n",
        ")"
      ]
    },
    {
      "cell_type": "code",
      "execution_count": null,
      "metadata": {
        "id": "xUNqtDeFhFj5"
      },
      "outputs": [],
      "source": [
        "_ = sgd_regressor_pipeline.fit(train_features, train_targets)"
      ]
    },
    {
      "cell_type": "code",
      "execution_count": null,
      "metadata": {
        "id": "BpNMeohYl6jK"
      },
      "outputs": [],
      "source": [
        "train_predictions = sgd_regressor_pipeline.predict(train_features)\n",
        "train_rmse = metrics.root_mean_squared_error(\n",
        "    train_targets,\n",
        "    train_predictions,\n",
        ")\n",
        "print(f\"Training rmse: {train_rmse}\")"
      ]
    },
    {
      "cell_type": "markdown",
      "metadata": {
        "id": "wWkdiCrXmAgZ"
      },
      "source": [
        "## Model assessment"
      ]
    },
    {
      "cell_type": "code",
      "execution_count": null,
      "metadata": {
        "id": "ak_EtkyY-RcF"
      },
      "outputs": [],
      "source": [
        "cv_neg_mses = model_selection.cross_val_score(\n",
        "    elastic_net_pipeline,\n",
        "    train_features,\n",
        "    train_targets,\n",
        "    cv=5,\n",
        "    n_jobs=-1,\n",
        "    scoring=\"neg_root_mean_squared_error\",\n",
        "    verbose=1\n",
        ")"
      ]
    },
    {
      "cell_type": "code",
      "execution_count": null,
      "metadata": {
        "id": "Ye7yb1_zQJny"
      },
      "outputs": [],
      "source": [
        "cv_rmse = np.mean(-cv_neg_mses)\n",
        "print(f\"ElasticNet CV rmse: {cv_rmse}\")"
      ]
    },
    {
      "cell_type": "code",
      "execution_count": null,
      "metadata": {
        "id": "JZdC_L7_e5_3"
      },
      "outputs": [],
      "source": [
        "cv_neg_mses = model_selection.cross_val_score(\n",
        "    sgd_regressor_pipeline,\n",
        "    train_features,\n",
        "    train_targets,\n",
        "    cv=5,\n",
        "    n_jobs=-1,\n",
        "    scoring=\"neg_root_mean_squared_error\",\n",
        "    verbose=1\n",
        ")"
      ]
    },
    {
      "cell_type": "code",
      "execution_count": null,
      "metadata": {
        "id": "crZdfvzNe7aZ"
      },
      "outputs": [],
      "source": [
        "cv_rmse = np.mean(-cv_neg_mses)\n",
        "print(f\"SGDRegressor CV rmse: {cv_rmse}\")"
      ]
    },
    {
      "cell_type": "markdown",
      "metadata": {
        "id": "MCcY9USoO3Wt"
      },
      "source": [
        "### Exercise:\n",
        "\n",
        "Is our current model under-fitting or over-fitting? How can you tell? What can you do to fix the problem?"
      ]
    },
    {
      "cell_type": "code",
      "execution_count": null,
      "metadata": {
        "id": "GGQ7BzFEO99D"
      },
      "outputs": [],
      "source": []
    },
    {
      "cell_type": "markdown",
      "metadata": {
        "id": "jm9_q3GOhKLw"
      },
      "source": [
        "## Tuning model performance"
      ]
    },
    {
      "cell_type": "markdown",
      "metadata": {
        "id": "d4SrVjUr4guN"
      },
      "source": [
        "### Using ElasticNetCV\n",
        "\n",
        "[ElasticNetCV](https://scikit-learn.org/stable/modules/generated/sklearn.linear_model.ElasticNetCV.html) is an example of a [cross-validation estimator](https://scikit-learn.org/stable/glossary.html#term-cross-validation-estimator). Cross-validation estimators are named `EstimatorCV` and tend to be roughly equivalent to `GridSearchCV(Estimator(), ...)`. The advantage of using a cross-validation estimator over the canonical estimator class along with grid search is that they can take advantage of warm-starting by reusing precomputed results in the previous steps of the cross-validation process.\n",
        "\n",
        "When calling `fit`, once the best parameters `l1_ratio` and `alpha` are found through cross-validation, the model is `fit` again using the entire training set."
      ]
    },
    {
      "cell_type": "code",
      "execution_count": null,
      "metadata": {
        "id": "H3b84RkZzU4D"
      },
      "outputs": [],
      "source": [
        "linear_model.ElasticNetCV?"
      ]
    },
    {
      "cell_type": "code",
      "execution_count": null,
      "metadata": {
        "id": "TzIe5AuizIzG"
      },
      "outputs": [],
      "source": [
        "regressor_cv = compose.TransformedTargetRegressor(\n",
        "    linear_model.ElasticNetCV(\n",
        "        cv=5,\n",
        "        eps=1e-3,\n",
        "        fit_intercept=True,\n",
        "        l1_ratio=np.logspace(-1, 0, 10),\n",
        "        max_iter=8192,\n",
        "        alphas=np.logspace(-4, 0, 10),\n",
        "        n_jobs=-1,\n",
        "        random_state=prng,\n",
        "        selection=\"random\",\n",
        "        verbose=0,\n",
        "    ),\n",
        "    transformer=target_preprocessor\n",
        ")\n",
        "\n",
        "tuned_elastic_net_pipeline = pipeline.make_pipeline(\n",
        "    features_preprocessor,\n",
        "    feature_engineering,\n",
        "    regressor_cv,\n",
        "    verbose=True\n",
        ")"
      ]
    },
    {
      "cell_type": "code",
      "execution_count": null,
      "metadata": {
        "id": "b4Kph3MC1M6V"
      },
      "outputs": [],
      "source": [
        "tuned_elastic_net_pipeline"
      ]
    },
    {
      "cell_type": "code",
      "execution_count": null,
      "metadata": {
        "id": "y-q7DMDs06Ke"
      },
      "outputs": [],
      "source": [
        "_ = tuned_elastic_net_pipeline.fit(train_features, train_targets)"
      ]
    },
    {
      "cell_type": "code",
      "execution_count": null,
      "metadata": {
        "id": "qShxaci4WJ4Y"
      },
      "outputs": [],
      "source": [
        "(\n",
        "    tuned_elastic_net_pipeline.named_steps[\"transformedtargetregressor\"]\n",
        "                              .regressor_\n",
        "                              .alpha_\n",
        ")"
      ]
    },
    {
      "cell_type": "code",
      "execution_count": null,
      "metadata": {
        "id": "JflnVK1IWto-"
      },
      "outputs": [],
      "source": [
        "(\n",
        "    tuned_elastic_net_pipeline.named_steps[\"transformedtargetregressor\"]\n",
        "                              .regressor_\n",
        "                              .l1_ratio_\n",
        ")"
      ]
    },
    {
      "cell_type": "markdown",
      "metadata": {
        "id": "ntdY-4DLh-gy"
      },
      "source": [
        "### Using GridSearchCV and SGDRegressor"
      ]
    },
    {
      "cell_type": "code",
      "execution_count": null,
      "metadata": {
        "id": "mt0r-1O2oDUh"
      },
      "outputs": [],
      "source": [
        "tuned_sgd_regressor_pipeline = model_selection.GridSearchCV(\n",
        "    sgd_regressor_pipeline,\n",
        "    cv=5,\n",
        "    param_grid={\n",
        "        \"transformedtargetregressor__regressor__alpha\": np.logspace(-4, 0, 10),\n",
        "        \"transformedtargetregressor__regressor__l1_ratio\": np.logspace(-1, 0, 10)\n",
        "    },\n",
        "    n_jobs=-1,\n",
        "    refit=True,\n",
        "    scoring=\"neg_root_mean_squared_error\",\n",
        "    verbose=1\n",
        ")"
      ]
    },
    {
      "cell_type": "code",
      "execution_count": null,
      "metadata": {
        "id": "3Asnemv_phFV"
      },
      "outputs": [],
      "source": [
        "tuned_sgd_regressor_pipeline"
      ]
    },
    {
      "cell_type": "code",
      "execution_count": null,
      "metadata": {
        "id": "bfw469ahoDWg"
      },
      "outputs": [],
      "source": [
        "_ = tuned_sgd_regressor_pipeline.fit(train_features, train_targets)"
      ]
    },
    {
      "cell_type": "code",
      "execution_count": null,
      "metadata": {
        "id": "bGSfl1Qyi8Ei"
      },
      "outputs": [],
      "source": [
        "tuned_sgd_regressor_pipeline.best_params_"
      ]
    },
    {
      "cell_type": "markdown",
      "metadata": {
        "id": "xjm2nTimiXfC"
      },
      "source": [
        "## Assessing performance of the tuned model"
      ]
    },
    {
      "cell_type": "code",
      "execution_count": null,
      "metadata": {
        "id": "Mr5pHQxqijS6"
      },
      "outputs": [],
      "source": [
        "train_predictions = tuned_elastic_net_pipeline.predict(train_features)\n",
        "train_rmse = metrics.root_mean_squared_error(\n",
        "    train_targets,\n",
        "    train_predictions,\n",
        ")\n",
        "print(f\"ElasticNetCV training rmse: {train_rmse}\")"
      ]
    },
    {
      "cell_type": "code",
      "execution_count": null,
      "metadata": {
        "id": "_XhEX7fuu7Yy"
      },
      "outputs": [],
      "source": [
        "test_predictions = tuned_elastic_net_pipeline.predict(test_features)\n",
        "test_rmse = metrics.root_mean_squared_error(\n",
        "    test_targets,\n",
        "    test_predictions,\n",
        ")\n",
        "print(f\"ElasticNetCV testing rmse: {test_rmse}\")"
      ]
    },
    {
      "cell_type": "code",
      "execution_count": null,
      "metadata": {
        "id": "ChmXVMtcisEx"
      },
      "outputs": [],
      "source": [
        "train_predictions = tuned_sgd_regressor_pipeline.predict(train_features)\n",
        "train_rmse = metrics.root_mean_squared_error(\n",
        "    train_targets,\n",
        "    train_predictions,\n",
        ")\n",
        "print(f\"GridSearchCV + SGDRegressor training rmse: {train_rmse}\")"
      ]
    },
    {
      "cell_type": "code",
      "execution_count": null,
      "metadata": {
        "id": "QYWJwp9qia0N"
      },
      "outputs": [],
      "source": [
        "test_predictions = tuned_sgd_regressor_pipeline.predict(test_features)\n",
        "test_rmse = metrics.root_mean_squared_error(\n",
        "    test_targets,\n",
        "    test_predictions,\n",
        ")\n",
        "print(f\"GridSearchCV + SGDRegressor Testing rmse: {test_rmse}\")"
      ]
    },
    {
      "cell_type": "markdown",
      "metadata": {
        "id": "A4Ooo0SZizSf"
      },
      "source": [
        "### Exercise\n",
        "\n",
        "Which of the two models should you prefer? Why?"
      ]
    },
    {
      "cell_type": "code",
      "execution_count": null,
      "metadata": {
        "id": "Iftknph2i_0v"
      },
      "outputs": [],
      "source": []
    }
  ],
  "metadata": {
    "colab": {
      "provenance": []
    },
    "kernelspec": {
      "display_name": "Python 3 (ipykernel)",
      "language": "python",
      "name": "python3"
    },
    "language_info": {
      "codemirror_mode": {
        "name": "ipython",
        "version": 3
      },
      "file_extension": ".py",
      "mimetype": "text/x-python",
      "name": "python",
      "nbconvert_exporter": "python",
      "pygments_lexer": "ipython3",
      "version": "3.10.6"
    }
  },
  "nbformat": 4,
  "nbformat_minor": 0
}
