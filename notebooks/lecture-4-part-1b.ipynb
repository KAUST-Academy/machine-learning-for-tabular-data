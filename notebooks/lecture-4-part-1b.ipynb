{
  "cells": [
    {
      "cell_type": "code",
      "execution_count": null,
      "metadata": {
        "id": "BqXqSwkNMZnh"
      },
      "outputs": [],
      "source": [
        "import pathlib\n",
        "\n",
        "import matplotlib.pyplot as plt\n",
        "import numpy as np\n",
        "import pandas as pd\n",
        "from sklearn import compose, datasets, linear_model, metrics, model_selection\n",
        "from sklearn import preprocessing, pipeline"
      ]
    },
    {
      "cell_type": "markdown",
      "metadata": {
        "id": "wZWFwAtSMf2-"
      },
      "source": [
        "# Linear Regression with Scikit-Learn"
      ]
    },
    {
      "cell_type": "code",
      "execution_count": null,
      "metadata": {
        "id": "Pic_KeQvHUR8"
      },
      "outputs": [],
      "source": [
        "features, targets = datasets.load_diabetes(\n",
        "    return_X_y=True,\n",
        "    as_frame=True,\n",
        "    scaled=True\n",
        ")"
      ]
    },
    {
      "cell_type": "code",
      "execution_count": null,
      "metadata": {
        "id": "NRKDrTgqHUR8"
      },
      "outputs": [],
      "source": [
        "features.head()"
      ]
    },
    {
      "cell_type": "code",
      "execution_count": null,
      "metadata": {
        "id": "dzfG-j5DHUR9"
      },
      "outputs": [],
      "source": [
        "features.info()"
      ]
    },
    {
      "cell_type": "code",
      "execution_count": null,
      "metadata": {
        "id": "x4-uuq_fClPe"
      },
      "outputs": [],
      "source": [
        "targets.describe()"
      ]
    },
    {
      "cell_type": "markdown",
      "metadata": {
        "id": "iRuGO5YhhC86"
      },
      "source": [
        "## Train-test split"
      ]
    },
    {
      "cell_type": "code",
      "execution_count": null,
      "metadata": {
        "id": "3bPVLcg5IaLr"
      },
      "outputs": [],
      "source": [
        "prng = np.random.RandomState(42)\n",
        "\n",
        "train_features, test_features, train_targets, test_targets = (\n",
        "    model_selection.train_test_split(\n",
        "        features,\n",
        "        targets,\n",
        "        random_state=prng,\n",
        "        test_size=0.1\n",
        "    )\n",
        ")"
      ]
    },
    {
      "cell_type": "markdown",
      "metadata": {
        "id": "mrQRCXgMgSe5"
      },
      "source": [
        "## Model training"
      ]
    },
    {
      "cell_type": "markdown",
      "metadata": {
        "id": "hbwT8oMLgVfK"
      },
      "source": [
        "### Using LinearRegression"
      ]
    },
    {
      "cell_type": "code",
      "execution_count": null,
      "metadata": {
        "id": "HEztScChgrzr"
      },
      "outputs": [],
      "source": [
        "linear_regression = linear_model.LinearRegression()"
      ]
    },
    {
      "cell_type": "code",
      "execution_count": null,
      "metadata": {
        "id": "gf2dmGiWFpti"
      },
      "outputs": [],
      "source": [
        "linear_regression"
      ]
    },
    {
      "cell_type": "code",
      "execution_count": null,
      "metadata": {
        "id": "6nanFV14gYoq"
      },
      "outputs": [],
      "source": [
        "%%timeit\n",
        "_ = linear_regression.fit(train_features, train_targets)"
      ]
    },
    {
      "cell_type": "code",
      "execution_count": null,
      "metadata": {
        "id": "fB47PSX1Hxwf"
      },
      "outputs": [],
      "source": [
        "_ = linear_regression.fit(train_features, train_targets)"
      ]
    },
    {
      "cell_type": "code",
      "execution_count": null,
      "metadata": {
        "id": "DwBJsLtzGVBW"
      },
      "outputs": [],
      "source": [
        "train_predictions = linear_regression.predict(train_features)\n",
        "train_rmse = metrics.root_mean_squared_error(\n",
        "    train_targets,\n",
        "    train_predictions,\n",
        ")\n",
        "print(f\"Training rmse: {train_rmse}\")"
      ]
    },
    {
      "cell_type": "code",
      "execution_count": null,
      "metadata": {
        "id": "vmrb7vbFGVEG"
      },
      "outputs": [],
      "source": [
        "test_predictions = linear_regression.predict(test_features)\n",
        "test_rmse = metrics.root_mean_squared_error(\n",
        "    test_targets,\n",
        "    test_predictions,\n",
        ")\n",
        "print(f\"Testing rmse: {test_rmse}\")"
      ]
    },
    {
      "cell_type": "markdown",
      "metadata": {
        "id": "h3JwOS2MhyJW"
      },
      "source": [
        "### Using SGDRegressor"
      ]
    },
    {
      "cell_type": "code",
      "execution_count": null,
      "metadata": {
        "id": "329CnQnEHUR-"
      },
      "outputs": [],
      "source": [
        "sgd_regressor = linear_model.SGDRegressor()"
      ]
    },
    {
      "cell_type": "code",
      "execution_count": null,
      "metadata": {
        "id": "rAjNNRdHgx0-"
      },
      "outputs": [],
      "source": [
        "%%timeit\n",
        "_ = sgd_regressor.fit(train_features, train_targets)"
      ]
    },
    {
      "cell_type": "code",
      "execution_count": null,
      "metadata": {
        "id": "xUNqtDeFhFj5"
      },
      "outputs": [],
      "source": [
        "_ = sgd_regressor.fit(train_features, train_targets)"
      ]
    },
    {
      "cell_type": "code",
      "execution_count": null,
      "metadata": {
        "id": "BpNMeohYl6jK"
      },
      "outputs": [],
      "source": [
        "train_predictions = sgd_regressor.predict(train_features)\n",
        "train_rmse = metrics.root_mean_squared_error(\n",
        "    train_targets,\n",
        "    train_predictions,\n",
        ")\n",
        "print(f\"Training rmse: {train_rmse}\")"
      ]
    },
    {
      "cell_type": "code",
      "execution_count": null,
      "metadata": {
        "id": "-jUADvu2G2b2"
      },
      "outputs": [],
      "source": [
        "test_predictions = sgd_regressor.predict(test_features)\n",
        "test_rmse = metrics.root_mean_squared_error(\n",
        "    test_targets,\n",
        "    test_predictions,\n",
        ")\n",
        "print(f\"Testing rmse: {test_rmse}\")"
      ]
    },
    {
      "cell_type": "markdown",
      "metadata": {
        "id": "5-ai_5WhKu1m"
      },
      "source": [
        "### Exercise\n",
        "\n",
        "Compare the training loss and the testing loss. Is the model underfitting or overfitting? How can you tell?"
      ]
    },
    {
      "cell_type": "code",
      "execution_count": null,
      "metadata": {
        "id": "Iftknph2i_0v"
      },
      "outputs": [],
      "source": []
    }
  ],
  "metadata": {
    "colab": {
      "provenance": []
    },
    "kernelspec": {
      "display_name": "Python 3 (ipykernel)",
      "language": "python",
      "name": "python3"
    },
    "language_info": {
      "codemirror_mode": {
        "name": "ipython",
        "version": 3
      },
      "file_extension": ".py",
      "mimetype": "text/x-python",
      "name": "python",
      "nbconvert_exporter": "python",
      "pygments_lexer": "ipython3",
      "version": "3.10.6"
    }
  },
  "nbformat": 4,
  "nbformat_minor": 0
}
